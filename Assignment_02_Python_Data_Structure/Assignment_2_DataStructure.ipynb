{
  "nbformat": 4,
  "nbformat_minor": 0,
  "metadata": {
    "colab": {
      "provenance": []
    },
    "kernelspec": {
      "name": "python3",
      "display_name": "Python 3"
    },
    "language_info": {
      "name": "python"
    }
  },
  "cells": [
    {
      "cell_type": "markdown",
      "source": [
        "#Theory Questions\n"
      ],
      "metadata": {
        "id": "xWZ0Bbxo75qa"
      }
    },
    {
      "cell_type": "markdown",
      "source": [
        "**.1 What are data structures, and why are they important.**\n",
        "\n",
        "Ans:\n",
        "\n",
        "Data structures are ways of organizing and storing data so it can be efficiently accessed and modified.\n",
        "\n",
        "They are essential because they enable faster data manipulation and optimize algorithms, improving the overall performance of applications"
      ],
      "metadata": {
        "id": "cnHAU92R3bfd"
      }
    },
    {
      "cell_type": "markdown",
      "source": [
        "**Q.2 Explain the difference between mutable and immutable data types with examples**\n",
        "\n",
        "Ans:\n",
        "\n",
        "Differences Between Mutable and Immutable Data Types:\n",
        "\n",
        "**Mutable data types:**\n",
        "    \n",
        "  -   can be changed after creation &\n",
        "    \n",
        "  -   Modifying the object changes the original object\n",
        "    \n",
        "  -   Objects can share the same memory reference if modified\n",
        "        \n",
        "    -       Example: lists and dictionaries  while\n",
        "\n",
        "\n",
        "**Immutable data types:**\n",
        "    \n",
        "  -   Immutable data types cannot be modified\n",
        "    \n",
        "  -   Modifying the object creates a new object\n",
        "    \n",
        "  -    A new object is created in memory when modified\n",
        "    \n",
        "    -       Example: strings and tuples"
      ],
      "metadata": {
        "id": "lzOJ8IFO3fmb"
      }
    },
    {
      "cell_type": "markdown",
      "source": [
        "**Q.3 What are the main differences between lists and tuples in Python**\n",
        "Ans:\n",
        "**List**:    \n",
        "  -   List are Mutable : Mutable, more flexible, and slower.\n",
        "  -   you can modify, add, or remove elements after the list is created\n",
        "  -   Syntax:\n",
        "            Lists are created using square brackets: []\n",
        "  -   Lists require more memory due to their ability to change.\n",
        "  -   Lists have many built-in methods for modifying the list\n",
        "    -       Example:  append(), remove(), extend(), pop()\n",
        "\n",
        "\n",
        "**Tuples** :\n",
        "  -   Immutable, faster, and more memory efficient.\n",
        "  -   Tuples are immutable\n",
        "  -   once a tuple is created, you cannot modify, add, or remove elements.\n",
        "  -   Syntax:\n",
        "            Tuples are created using parentheses: ()\n",
        "  -   Tuples are generally faster than lists for iteration and accessing element, because of their immutability.\n",
        "  -   Tuples have fewer methods since they are immutable\n",
        "    -       Example: count(), index()\n",
        "            "
      ],
      "metadata": {
        "id": "hQvJZ1lc3hma"
      }
    },
    {
      "cell_type": "markdown",
      "source": [
        "**Q.4 Describe how dictionaries store data**\n",
        "\n",
        "Ans:\n",
        "\n",
        " Dictionaries in Python store data in key-value pairs using a hash-based structure. Each key is unique and is mapped to a specific value. The dictionary uses a hash function to compute a hash value for each key, determining where the key-value pair is stored in memory. This allows for fast lookups, insertions, and deletion"
      ],
      "metadata": {
        "id": "6wB_IOlu3kHd"
      }
    },
    {
      "cell_type": "markdown",
      "source": [
        "Q.5 Why might you use a set instead of a list in Python\n",
        "Ans:\n",
        "Sets are useful when you need to store unique elements and perform fast membership checks. Unlike lists, sets automatically eliminate duplicates, ensuring that only one instance of each element is stored. This makes sets ideal for operations that involve finding unique items or performing mathematical set operations like union, intersection, and difference."
      ],
      "metadata": {
        "id": "Ask_4Yvy3lrI"
      }
    },
    {
      "cell_type": "markdown",
      "source": [
        "**Q.6 What is a string in Python, and how is it different from a list**\n",
        "\n",
        "Ans:\n",
        "\n",
        " A string is an immutable sequence of characters, whereas a list is a mutable sequence of any data type.\n",
        " While both support indexing and slicing, strings cannot be changed after creation, but lists can be modified."
      ],
      "metadata": {
        "id": "OFBvmk-43qsv"
      }
    },
    {
      "cell_type": "markdown",
      "source": [
        "Q.7 How do tuples ensure data integrity in Python\n",
        "Ans:\n",
        " Tuples ensure data integrity because they are immutable. Once a tuple is created, its elements cannot be modified, which helps preserve the data without accidental changes."
      ],
      "metadata": {
        "id": "d1Vr8gR23toY"
      }
    },
    {
      "cell_type": "markdown",
      "source": [
        "**Q.8 What is a hash table, and how does it relate to dictionaries in Python**\n",
        "\n",
        "Ans:\n",
        "\n",
        " A hash table is a data structure that stores data in an array format, using a hash function to compute an index where the data is stored. In Python, dictionaries use a hash table internally to map keys to values, allowing for fast data retrieval."
      ],
      "metadata": {
        "id": "V-f38eF03vu0"
      }
    },
    {
      "cell_type": "markdown",
      "source": [
        "**Q.9 Can lists contain different data types in Python**\n",
        "\n",
        "Ans:\n",
        "\n",
        "Yes, lists in Python can contain elements of different data types. For example, a list can store integers, strings, floats, or even other lists."
      ],
      "metadata": {
        "id": "ndib_3dx3xs3"
      }
    },
    {
      "cell_type": "code",
      "source": [
        "#Example\n",
        "my_list = [1, \"apple\", 3.14, [2, 3]]"
      ],
      "metadata": {
        "id": "SkL8G4x662Ku"
      },
      "execution_count": null,
      "outputs": []
    },
    {
      "cell_type": "markdown",
      "source": [
        "**Q.10 Explain why strings are immutable in Python**\n",
        "\n",
        "Ans:\n",
        "\n",
        "Strings are immutable in Python because they are designed to be memory efficient and safe from accidental changes. By making strings immutable, Python ensures that any string value cannot be altered, which avoids unexpected behavior when multiple references point to the same string object."
      ],
      "metadata": {
        "id": "r9JVzTY83zq9"
      }
    },
    {
      "cell_type": "markdown",
      "source": [
        "**Q.12 Describe a scenario where using a tuple would be preferable over a list**\n",
        "\n",
        "Ans:\n",
        "\n",
        "Tuples are preferable when you need an immutable collection of elements, like storing coordinates (x, y) or when the data should remain constant throughout the program. Since tuples are faster and more memory-efficient than lists, they are a better choice for fixed collections."
      ],
      "metadata": {
        "id": "kqo4t8A03zth"
      }
    },
    {
      "cell_type": "markdown",
      "source": [
        "**Q.13 How do sets handle duplicate values in Python**\n",
        "\n",
        "Ans:\n",
        "\n",
        "Sets automatically eliminate duplicate values. If you try to add a duplicate element, it will simply be ignored, ensuring that only unique elements are stored in a set.\n"
      ],
      "metadata": {
        "id": "WRd6pG403zvd"
      }
    },
    {
      "cell_type": "code",
      "source": [
        "my_set = {1, 2, 2, 3}\n",
        "print(my_set)  # Output: {1, 2, 3}"
      ],
      "metadata": {
        "id": "u1IP7GWR7F6-"
      },
      "execution_count": null,
      "outputs": []
    },
    {
      "cell_type": "markdown",
      "source": [
        "**Q.14 How does the “in” keyword work differently for lists and dictionaries**\n",
        "\n",
        "Ans:\n",
        "\n",
        "For lists, the in keyword checks if an element exists in the list by iterating through the list. It checks for membership one by one.\n",
        "For dictionaries, the in keyword checks if a key exists in the dictionary, which is much faster due to the hash table structure."
      ],
      "metadata": {
        "id": "ijfMxH3w3zx6"
      }
    },
    {
      "cell_type": "markdown",
      "source": [
        "**Q.15 Can you modify the elements of a tuple? Explain why or why not**\n",
        "\n",
        "Ans:\n",
        "\n",
        "No, you cannot modify the elements of a tuple because tuples are immutable. Once a tuple is created, its data cannot be changed, which ensures data integrity."
      ],
      "metadata": {
        "id": "LojgnRWw3zzs"
      }
    },
    {
      "cell_type": "markdown",
      "source": [
        "**Q.16 What is a nested dictionary, and give an example of its use case**\n",
        "\n",
        "Ans:\n",
        "\n",
        "A nested dictionary is a dictionary that contains other dictionaries as values. This is useful when you need to represent complex hierarchical data, like storing information about multiple employees in a company.\n"
      ],
      "metadata": {
        "id": "DbkR5pLb3z2N"
      }
    },
    {
      "cell_type": "code",
      "source": [
        "\n",
        "employees = {\n",
        "    \"Gauri\": {\"age\": 30, \"department\": \"HR\"},\n",
        "    \"Riya\": {\"age\": 45, \"department\": \"IT\"}\n",
        "}"
      ],
      "metadata": {
        "id": "d_dTJZF97RJo"
      },
      "execution_count": null,
      "outputs": []
    },
    {
      "cell_type": "markdown",
      "source": [
        "**Q.17 Describe the time complexity of accessing elements in a dictionary**\n",
        "\n",
        "Ans:\n",
        "\n",
        " The time complexity of accessing elements in a dictionary is O(1) on average. This is because dictionaries use a hash table, which allows for fast lookups based on the key."
      ],
      "metadata": {
        "id": "c9czA9F63z4T"
      }
    },
    {
      "cell_type": "markdown",
      "source": [
        "**Q.18 In what situations are lists preferred over dictionaries**\n",
        "\n",
        "Ans:\n",
        "\n",
        "Lists are preferred over dictionaries when:\n",
        "\n",
        "  You need to maintain the order of elements.\n",
        "\n",
        "  You need to store a sequence of elements without associating them with unique keys.\n",
        "\n",
        "  When you don’t need fast lookups and are dealing with a small collection of data."
      ],
      "metadata": {
        "id": "kPqHLm2-3z59"
      }
    },
    {
      "cell_type": "markdown",
      "source": [
        "**Q.19 Why are dictionaries considered unordered, and how does that affect data retrieval.**\n",
        "\n",
        "Ans:\n",
        "\n",
        " Dictionaries in Python are considered unordered because they do not maintain a specific sequence for their keys and values. However, this does not affect data retrieval as long as retrieval is done by key, as dictionaries provide direct access to values through hashing"
      ],
      "metadata": {
        "id": "CDpAItig7mpJ"
      }
    },
    {
      "cell_type": "markdown",
      "source": [
        "**Q.20 Explain the difference between a list and a dictionary in terms of data retrieval.**\n",
        "\n",
        "Ans:\n",
        "\n",
        "In a list, data is retrieved by index (position in the list).\n",
        "\n",
        "In a dictionary, data is retrieved by key (unique identifier), making\n",
        "it faster for lookups as keys are hashed."
      ],
      "metadata": {
        "id": "5GGinyVt7od3"
      }
    },
    {
      "cell_type": "markdown",
      "source": [
        "#Practical Questions\n"
      ],
      "metadata": {
        "id": "nDHVY51h7_G8"
      }
    },
    {
      "cell_type": "markdown",
      "source": [
        "Q.1 Write a code to create a string with your name and print it\n",
        "\n"
      ],
      "metadata": {
        "id": "aoljHb2Y8aO5"
      }
    },
    {
      "cell_type": "code",
      "source": [
        "#Q1. Write a code to create a string with your name and print it.\n",
        "name = \"Maheshwari Shinde\"\n",
        "print(name)\n"
      ],
      "metadata": {
        "id": "Zke8GOMR8ssA"
      },
      "execution_count": 1,
      "outputs": []
    },
    {
      "cell_type": "markdown",
      "source": [
        "Q.2 Write a code to find the length of the string \"Hello World\"\n",
        "\n"
      ],
      "metadata": {
        "id": "x2DlBmG6-IwJ"
      }
    },
    {
      "cell_type": "code",
      "source": [
        "#Q.2 Write a code to find the length of the string \"Hello World\"\n",
        "string = \"Hello World\"\n",
        "length = len(string)\n",
        "print(length)"
      ],
      "metadata": {
        "id": "hwWUJRjf8xgZ"
      },
      "execution_count": null,
      "outputs": []
    },
    {
      "cell_type": "markdown",
      "source": [
        "Q.3 Write a code to slice the first 3 characters from the string \"Python Programming\"\n",
        "\n"
      ],
      "metadata": {
        "id": "E4OQZSo5-Ltu"
      }
    },
    {
      "cell_type": "code",
      "source": [
        "#Q.3 Write a code to slice the first 3 characters from the string \"Python Programming\"\n",
        "string = \"Python Programming\"\n",
        "sliced_string = string[:3]\n",
        "print(sliced_string)\n"
      ],
      "metadata": {
        "id": "DlSBm-5x8xpX"
      },
      "execution_count": null,
      "outputs": []
    },
    {
      "cell_type": "markdown",
      "source": [
        "Q.4 Write a code to convert the string \"hello\" to uppercase\n",
        "\n"
      ],
      "metadata": {
        "id": "sfL56tVs-Np9"
      }
    },
    {
      "cell_type": "code",
      "source": [
        "#Q.4 Write a code to convert the string \"hello\" to uppercase\n",
        "string = \"hello\"\n",
        "uppercase_string = string.upper()\n",
        "print(uppercase_string)\n"
      ],
      "metadata": {
        "id": "8L1eQumG8xyo"
      },
      "execution_count": null,
      "outputs": []
    },
    {
      "cell_type": "markdown",
      "source": [
        "Q.5Write a code to replace the word \"apple\" with \"orange\" in the string \"I like apple\"\n",
        "\n"
      ],
      "metadata": {
        "id": "zXlvE2Z6-QKL"
      }
    },
    {
      "cell_type": "code",
      "source": [
        "#Q.5 Write a code to replace the word \"apple\" with \"orange\" in the string \"I like apple\"\n",
        "string = \"I like apple\"\n",
        "new_string = string.replace(\"apple\", \"orange\")\n",
        "print(new_string)\n"
      ],
      "metadata": {
        "id": "m6OcyC-q8x72"
      },
      "execution_count": null,
      "outputs": []
    },
    {
      "cell_type": "markdown",
      "source": [
        "Q.6 Write a code to create a list with numbers 1 to 5 and print it\n",
        "\n"
      ],
      "metadata": {
        "id": "Ar1wQpO7-S7e"
      }
    },
    {
      "cell_type": "code",
      "source": [
        "#Q.6 Write a code to create a list with numbers 1 to 5 and print it\n",
        "numbers = [1, 2, 3, 4, 5]\n",
        "print(numbers)\n",
        "\n",
        "\n"
      ],
      "metadata": {
        "id": "_0vHklzk8yza"
      },
      "execution_count": null,
      "outputs": []
    },
    {
      "cell_type": "markdown",
      "source": [
        "Q.7 Write a code to append the number 10 to the list [1, 2, 3, 4]\n",
        "\n"
      ],
      "metadata": {
        "id": "Mnfdm9CY-Uej"
      }
    },
    {
      "cell_type": "code",
      "source": [
        "#Q.7 Write a code to append the number 10 to the list [1, 2, 3, 4]\n",
        "numbers = [1, 2, 3, 4]\n",
        "numbers.append(10)\n",
        "print(numbers)"
      ],
      "metadata": {
        "id": "itHD5mpv_pHa"
      },
      "execution_count": null,
      "outputs": []
    },
    {
      "cell_type": "markdown",
      "source": [
        "Q.8 Write a code to remove the number 3 from the list [1, 2, 3, 4, 5]\n",
        "\n"
      ],
      "metadata": {
        "id": "hfxt-tH_-WTb"
      }
    },
    {
      "cell_type": "code",
      "source": [
        "#Q.8 Write a code to remove the number 3 from the list [1, 2, 3, 4, 5]\n",
        "numbers = [1, 2, 3, 4, 5]\n",
        "numbers.remove(3)\n",
        "print(numbers)"
      ],
      "metadata": {
        "id": "7QsNG24a_sCH"
      },
      "execution_count": null,
      "outputs": []
    },
    {
      "cell_type": "markdown",
      "source": [
        "Q.9 Write a code to access the second element in the list ['a', 'b', 'c', 'd']\n",
        "\n"
      ],
      "metadata": {
        "id": "EImtMw82-XzQ"
      }
    },
    {
      "cell_type": "code",
      "source": [
        "#Q.9 Write a code to access the second element in the list ['a', 'b', 'c', 'd']\n",
        "letters = ['a', 'b', 'c', 'd']\n",
        "second_element = letters[1]\n",
        "print(second_element)"
      ],
      "metadata": {
        "id": "tAxsJLW6_uzp"
      },
      "execution_count": null,
      "outputs": []
    },
    {
      "cell_type": "markdown",
      "source": [
        "Q.10 Write a code to reverse the list [10, 20, 30, 40, 50].\n",
        "\n"
      ],
      "metadata": {
        "id": "25cDSZ0j-Zqa"
      }
    },
    {
      "cell_type": "code",
      "source": [
        "#Q.10 Write a code to reverse the list [10, 20, 30, 40, 50].\n",
        "numbers = [10, 20, 30, 40, 50]\n",
        "numbers.reverse()\n",
        "print(numbers)\n"
      ],
      "metadata": {
        "id": "RGhJMJJ0_xLr"
      },
      "execution_count": null,
      "outputs": []
    },
    {
      "cell_type": "markdown",
      "source": [
        "Q.11 Write a code to create a tuple with the elements 100, 200, 300 and print it.\n",
        "\n"
      ],
      "metadata": {
        "id": "ipPbVUBh-cWW"
      }
    },
    {
      "cell_type": "code",
      "source": [
        "#Q.11 Write a code to create a tuple with the elements 100, 200, 300 and print it.\n",
        "\n",
        "my_tuple = (100, 200, 300)\n",
        "print(my_tuple)"
      ],
      "metadata": {
        "colab": {
          "base_uri": "https://localhost:8080/"
        },
        "id": "2Z0q9vES8zXp",
        "outputId": "cb15af38-cbaa-438e-eae7-05239c114b9e"
      },
      "execution_count": 3,
      "outputs": [
        {
          "output_type": "stream",
          "name": "stdout",
          "text": [
            "(100, 200, 300)\n"
          ]
        }
      ]
    },
    {
      "cell_type": "markdown",
      "source": [
        "Q.12 Write a code to access the second-to-last element of the tuple ('red', 'green', 'blue', 'yellow').\n",
        "\n"
      ],
      "metadata": {
        "id": "-7EMoTbE-euW"
      }
    },
    {
      "cell_type": "code",
      "source": [
        "#Q.12 Write a code to access the second-to-last element of the tuple ('red', 'green', 'blue', 'yellow').\n",
        "\n",
        "my_tuple = ('red', 'green', 'blue', 'yellow')\n",
        "print(my_tuple[-2])  # Output: 'blue'"
      ],
      "metadata": {
        "id": "F5PjaO-s8zfA"
      },
      "execution_count": null,
      "outputs": []
    },
    {
      "cell_type": "markdown",
      "source": [
        "Q.13 Write a code to find the minimum number in the tuple (10, 20, 5, 15).\n",
        "\n"
      ],
      "metadata": {
        "id": "5bUXD7mx-gb8"
      }
    },
    {
      "cell_type": "code",
      "source": [
        "#Q.13 Write a code to find the minimum number in the tuple (10, 20, 5, 15).\n",
        "my_tuple = (10, 20, 5, 15)\n",
        "print(min(my_tuple))  # Output: 5\n"
      ],
      "metadata": {
        "id": "wZ-x-Rxr_1ER"
      },
      "execution_count": null,
      "outputs": []
    },
    {
      "cell_type": "markdown",
      "source": [
        "Q.14 Write a code to find the index of the element \"cat\" in the tuple ('dog', 'cat', 'rabbit').\n",
        "\n",
        "\n",
        "\n",
        "\n"
      ],
      "metadata": {
        "id": "4ioPSCYl-ih7"
      }
    },
    {
      "cell_type": "code",
      "source": [
        "#Q.14 Write a code to find the index of the element \"cat\" in the tuple ('dog', 'cat', 'rabbit')\n",
        "my_tuple = ('dog', 'cat', 'rabbit')\n",
        "print(my_tuple.index('cat'))  # Output: 1"
      ],
      "metadata": {
        "id": "vbTwncQf_3rs"
      },
      "execution_count": null,
      "outputs": []
    },
    {
      "cell_type": "markdown",
      "source": [
        "Q.15 Write a code to create a tuple containing three different fruits and check if \"kiwi\" is in it.\n",
        "\n"
      ],
      "metadata": {
        "id": "Jf-2d0-o-kfL"
      }
    },
    {
      "cell_type": "code",
      "source": [
        "#Q.15 Write a code to create a tuple containing three different fruits and check if \"kiwi\" is in it.\n",
        "\n",
        "my_tuple = ('apple', 'banana', 'cherry')\n",
        "print('kiwi' in my_tuple)  # Output: False"
      ],
      "metadata": {
        "id": "R3bHhuoF8z31"
      },
      "execution_count": null,
      "outputs": []
    },
    {
      "cell_type": "markdown",
      "source": [
        "Q.16 Write a code to create a set with the elements 'a', 'b', 'c' and print it.\n",
        "\n"
      ],
      "metadata": {
        "id": "tKfD_yQr-mOg"
      }
    },
    {
      "cell_type": "code",
      "source": [
        "#Q.16 Write a code to create a set with the elements 'a', 'b', 'c' and print it.\n",
        "my_set = {'a', 'b', 'c'}\n",
        "print(my_set)\n"
      ],
      "metadata": {
        "id": "GyrYTXDG80AD"
      },
      "execution_count": null,
      "outputs": []
    },
    {
      "cell_type": "markdown",
      "source": [
        "Q.17 Write a code to clear all elements from the set {1, 2, 3, 4, 5}.\n",
        "\n"
      ],
      "metadata": {
        "id": "Q805s3vZ-n0A"
      }
    },
    {
      "cell_type": "code",
      "source": [
        "#Q.17 Write a code to clear all elements from the set {1, 2, 3, 4, 5}.\n",
        "\n",
        "my_set = {1, 2, 3, 4, 5}\n",
        "my_set.clear()\n",
        "print(my_set)  # Output: set()"
      ],
      "metadata": {
        "id": "_-D6E3E980G-"
      },
      "execution_count": null,
      "outputs": []
    },
    {
      "cell_type": "markdown",
      "source": [
        "Q.18 Write a code to remove the element 4 from the set {1, 2, 3, 4}.\n",
        "\n"
      ],
      "metadata": {
        "id": "07Onwnz_-pbT"
      }
    },
    {
      "cell_type": "code",
      "source": [
        "#Q.18 Write a code to remove the element 4 from the set {1, 2, 3, 4}.\n",
        "\n",
        "my_set = {1, 2, 3, 4}\n",
        "my_set.remove(4)\n",
        "print(my_set)  # Output: {1, 2, 3}"
      ],
      "metadata": {
        "id": "lr6ftGbf80Pg"
      },
      "execution_count": null,
      "outputs": []
    },
    {
      "cell_type": "markdown",
      "source": [
        "Q.19 Write a code to find the union of two sets {1, 2, 3} and {3, 4, 5}.\n",
        "\n"
      ],
      "metadata": {
        "id": "zAQ4OFVH-rSi"
      }
    },
    {
      "cell_type": "code",
      "source": [
        "#Q.19 Write a code to find the union of two sets {1, 2, 3} and {3, 4, 5}.\n",
        "\n",
        "set1 = {1, 2, 3}\n",
        "set2 = {3, 4, 5}\n",
        "union_set = set1 | set2\n",
        "print(union_set)  # Output: {1, 2, 3, 4, 5}"
      ],
      "metadata": {
        "id": "uTvmTL7a80Yd"
      },
      "execution_count": null,
      "outputs": []
    },
    {
      "cell_type": "markdown",
      "source": [
        "Q.20 Write a code to find the intersection of two sets {1, 2, 3} and {2, 3, 4}.\n",
        "\n"
      ],
      "metadata": {
        "id": "PjrmDQgN-seA"
      }
    },
    {
      "cell_type": "code",
      "source": [
        "#Q.20 Write a code to find the intersection of two sets {1, 2, 3} and {2, 3, 4}.\n",
        "\n",
        "set1 = {1, 2, 3}\n",
        "set2 = {2, 3, 4}\n",
        "intersection_set = set1 & set2\n",
        "print(intersection_set)  # Output: {2, 3}"
      ],
      "metadata": {
        "id": "3MtkxdEq81Mk"
      },
      "execution_count": null,
      "outputs": []
    },
    {
      "cell_type": "markdown",
      "source": [
        "Q.21 Write a code to create a dictionary with the keys \"name\", \"age\", and \"city\", and print it.\n",
        "\n"
      ],
      "metadata": {
        "id": "zOp6VLTg-ttM"
      }
    },
    {
      "cell_type": "code",
      "source": [
        "#Q.21 Write a code to create a dictionary with the keys \"name\", \"age\", and \"city\", and print it.\n",
        "\n",
        "my_dict = {\"name\": \"Alice\", \"age\": 30, \"city\": \"Paris\"}\n",
        "print(my_dict)"
      ],
      "metadata": {
        "id": "pUjOjAmx81Tj"
      },
      "execution_count": null,
      "outputs": []
    },
    {
      "cell_type": "markdown",
      "source": [
        "Q.22 Write a code to add a new key-value pair \"country\": \"USA\" to the dictionary {'name': 'John', 'age': 25}.\n",
        "\n"
      ],
      "metadata": {
        "id": "aBPB-BpS-u-H"
      }
    },
    {
      "cell_type": "code",
      "source": [
        "#Q.22 Write a code to add a new key-value pair \"country\": \"USA\" to the dictionary {'name': 'John', 'age': 25}.\n",
        "\n",
        "my_dict = {'name': 'John', 'age': 25}\n",
        "my_dict[\"country\"] = \"USA\"\n",
        "print(my_dict)"
      ],
      "metadata": {
        "id": "hqvCmejb81bn"
      },
      "execution_count": null,
      "outputs": []
    },
    {
      "cell_type": "markdown",
      "source": [
        "Q.23 Write a code to access the value associated with the key \"name\" in the dictionary {'name': 'Alice', 'age': 30}.\n",
        "\n"
      ],
      "metadata": {
        "id": "i33I_ZIy-woE"
      }
    },
    {
      "cell_type": "code",
      "source": [
        "#Q.23 Write a code to access the value associated with the key \"name\" in the dictionary {'name': 'Alice', 'age': 30}.\n",
        "\n",
        "my_dict = {'name': 'Alice', 'age': 30}\n",
        "print(my_dict[\"name\"])  # Output: 'Alice'"
      ],
      "metadata": {
        "id": "09kB-Xnt81kR"
      },
      "execution_count": null,
      "outputs": []
    },
    {
      "cell_type": "markdown",
      "source": [
        "Q.24 Write a code to remove the key \"age\" from the dictionary {'name': 'Bob', 'age': 22, 'city': 'New York'}.\n",
        "\n"
      ],
      "metadata": {
        "id": "7Jma3X4v-yqw"
      }
    },
    {
      "cell_type": "code",
      "source": [
        "#Q.24 Write a code to remove the key \"age\" from the dictionary {'name': 'Bob', 'age': 22, 'city': 'New York'}.\n",
        "my_dict = {'name': 'Bob', 'age': 22, 'city': 'New York'}\n",
        "del my_dict[\"age\"]\n",
        "print(my_dict)  # Output: {'name': 'Bob', 'city': 'New York'}"
      ],
      "metadata": {
        "id": "XnjGF0IS9_hs"
      },
      "execution_count": null,
      "outputs": []
    },
    {
      "cell_type": "markdown",
      "source": [
        "Q.25 Write a code to check if the key \"city\" exists in the dictionary {'name': 'Alice', 'city': 'Paris'}.\n",
        "\n"
      ],
      "metadata": {
        "id": "65OMiKU1--SS"
      }
    },
    {
      "cell_type": "code",
      "source": [
        "#Q.25 Write a code to check if the key \"city\" exists in the dictionary {'name': 'Alice', 'city': 'Paris'}.\n",
        "\n",
        "my_dict = {'name': 'Alice', 'city': 'Paris'}\n",
        "print(\"city\" in my_dict)  # Output: True"
      ],
      "metadata": {
        "id": "ZYi1F0Qu81sB"
      },
      "execution_count": null,
      "outputs": []
    },
    {
      "cell_type": "markdown",
      "source": [
        "Q.26 Write a code to create a list, a tuple, and a dictionary, and print them all.\n",
        "\n"
      ],
      "metadata": {
        "id": "MdpK6S52-_1b"
      }
    },
    {
      "cell_type": "code",
      "source": [
        "#Q.26 Write a code to create a list, a tuple, and a dictionary, and print them all.\n",
        "my_list = [1, 2, 3]\n",
        "my_tuple = (4, 5, 6)\n",
        "my_dict = {'a': 1, 'b': 2}\n",
        "print(my_list, my_tuple, my_dict)"
      ],
      "metadata": {
        "id": "qojawTtw810h"
      },
      "execution_count": null,
      "outputs": []
    },
    {
      "cell_type": "markdown",
      "source": [
        "Q.27 Write a code to create a list of 5 random numbers between 1 and 100, sort it in ascending order, and print the\n",
        "result.(replaced)\n",
        "\n"
      ],
      "metadata": {
        "id": "n6VxYhwQ_BHb"
      }
    },
    {
      "cell_type": "code",
      "source": [
        "#Q.27 Write a code to create a list of 5 random numbers between 1 and 100, sort it in ascending order, and print the result.(replaced)\n",
        "import random\n",
        "my_list = [random.randint(1, 100) for _ in range(5)]\n",
        "my_list.sort()\n",
        "print(my_list)"
      ],
      "metadata": {
        "id": "zEJCAA0d819F"
      },
      "execution_count": null,
      "outputs": []
    },
    {
      "cell_type": "markdown",
      "source": [
        "Q.28 Write a code to create a list with strings and print the element at the third index.\n",
        "\n"
      ],
      "metadata": {
        "id": "6cbSHbjm_CS0"
      }
    },
    {
      "cell_type": "code",
      "source": [
        "#Q.28 Write a code to create a list with strings and print the element at the third index.\n",
        "my_list = [\"apple\", \"banana\", \"cherry\", \"date\"]\n",
        "print(my_list[3])  # Output: 'date'"
      ],
      "metadata": {
        "id": "X-z2t14882Fq"
      },
      "execution_count": null,
      "outputs": []
    },
    {
      "cell_type": "markdown",
      "source": [
        "Q.29 Write a code to combine two dictionaries into one and print the result.\n",
        "\n"
      ],
      "metadata": {
        "id": "9Xftqq81_Dhq"
      }
    },
    {
      "cell_type": "code",
      "source": [
        "#Q.29 Write a code to combine two dictionaries into one and print the result.\n",
        "\n",
        "dict1 = {'a': 1, 'b': 2}\n",
        "dict2 = {'c': 3, 'd': 4}\n",
        "combined_dict = {**dict1, **dict2}\n",
        "print(combined_dict)"
      ],
      "metadata": {
        "id": "AGZJ5vmQ82N9"
      },
      "execution_count": null,
      "outputs": []
    },
    {
      "cell_type": "markdown",
      "source": [
        "Q.30 Write a code to convert a list of strings into a set"
      ],
      "metadata": {
        "id": "CrKMsV76_EhE"
      }
    },
    {
      "cell_type": "code",
      "source": [
        "#Q.30 Write a code to convert a list of strings into a set\n",
        "my_list = [\"apple\", \"banana\", \"cherry\", \"apple\"]\n",
        "my_set = set(my_list)\n",
        "print(my_set)  # Output: {'banana', 'cherry', 'apple'}"
      ],
      "metadata": {
        "id": "OodrDmok82YP"
      },
      "execution_count": null,
      "outputs": []
    }
  ]
}